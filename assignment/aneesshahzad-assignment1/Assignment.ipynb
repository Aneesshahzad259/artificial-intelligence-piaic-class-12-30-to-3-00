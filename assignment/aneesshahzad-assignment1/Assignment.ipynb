{
 "cells": [
  {
   "cell_type": "code",
   "execution_count": 1,
   "metadata": {},
   "outputs": [],
   "source": [
    "name=\"'Anees shahzad'\"\n",
    "age=20\n",
    "uni=\"Superior collage faisalabad\"\n",
    "class1=\"Artificial Intelligence\""
   ]
  },
  {
   "cell_type": "code",
   "execution_count": 10,
   "metadata": {},
   "outputs": [
    {
     "name": "stdout",
     "output_type": "stream",
     "text": [
      "Hello'Anees shahzad'\n",
      "Your application is accepted for Artificial Intelligence in Superior collage faisalabad \n"
     ]
    }
   ],
   "source": [
    "message=\"Hello{studentName}\\nYour application is accepted for {classname} in {uni} \".format(classname=class1,uni=uni,studentName=name)\n",
    "print(message)"
   ]
  },
  {
   "cell_type": "markdown",
   "metadata": {},
   "source": []
  }
 ],
 "metadata": {
  "kernelspec": {
   "display_name": "Python 3",
   "language": "python",
   "name": "python3"
  },
  "language_info": {
   "codemirror_mode": {
    "name": "ipython",
    "version": 3
   },
   "file_extension": ".py",
   "mimetype": "text/x-python",
   "name": "python",
   "nbconvert_exporter": "python",
   "pygments_lexer": "ipython3",
   "version": "3.7.4"
  }
 },
 "nbformat": 4,
 "nbformat_minor": 2
}
