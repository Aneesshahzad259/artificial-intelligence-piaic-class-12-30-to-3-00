{
 "cells": [
  {
   "cell_type": "markdown",
   "metadata": {},
   "source": [
    "# Write formulla for area of circle where\n",
    "* radius is 5\n",
    "* pi is 3.14"
   ]
  },
  {
   "cell_type": "code",
   "execution_count": 5,
   "metadata": {},
   "outputs": [
    {
     "name": "stdout",
     "output_type": "stream",
     "text": [
      "area of circle is: 78.5\n"
     ]
    }
   ],
   "source": [
    "r=5\n",
    "pi=3.14\n",
    "area=pi*r**2\n",
    "cal=\"area of circle is: {}\".format(area)\n",
    "print(cal)"
   ]
  },
  {
   "cell_type": "markdown",
   "metadata": {},
   "source": [
    "# Create lists with following values with following names\n",
    "* cities -> Faisalabad, Islamabad, Karachi, Lahore, Quetta\n",
    "* result -> 93.4, 95, 98.7, 87.4, 83.02\n",
    "* score -> 45, 70, 54, 90, 42"
   ]
  },
  {
   "cell_type": "code",
   "execution_count": 11,
   "metadata": {},
   "outputs": [
    {
     "name": "stdout",
     "output_type": "stream",
     "text": [
      "Islamabad\n",
      "87.4\n",
      "90\n"
     ]
    }
   ],
   "source": [
    "cities=[\" Faisalabad\",\"Islamabad\",\"Karachi\",\"Lahore\",\"Quetta\"]\n",
    "result=[\"93.4\",\"95\",\"98.7\",\"87.4\",\"83.02\"]\n",
    "score=[\"45\",\"70\",\"54\",\"87.4\",\"90\"]\n",
    "print(cities[1])\n",
    "print(result[3])\n",
    "print(score[4])"
   ]
  },
  {
   "cell_type": "code",
   "execution_count": null,
   "metadata": {},
   "outputs": [],
   "source": []
  }
 ],
 "metadata": {
  "kernelspec": {
   "display_name": "Python 3",
   "language": "python",
   "name": "python3"
  },
  "language_info": {
   "codemirror_mode": {
    "name": "ipython",
    "version": 3
   },
   "file_extension": ".py",
   "mimetype": "text/x-python",
   "name": "python",
   "nbconvert_exporter": "python",
   "pygments_lexer": "ipython3",
   "version": "3.7.4"
  }
 },
 "nbformat": 4,
 "nbformat_minor": 2
}
